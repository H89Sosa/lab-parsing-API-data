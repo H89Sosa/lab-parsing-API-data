{
 "cells": [
  {
   "cell_type": "markdown",
   "metadata": {},
   "source": [
    "# Parsing APIs Example"
   ]
  },
  {
   "cell_type": "markdown",
   "metadata": {},
   "source": [
    "## Intro\n",
    "\n",
    "Now we will take a look on a real data. When you parse data from web you will often meet API based web-pages. \n",
    "\n",
    "For example [zalando.fr](https://www.zalando.fr/accueil-homme/) is API based web-page. \n",
    "\n",
    "In this guided lab you will learn how to obtain the links from webpages and extract the data. Read through this doc, execute the cells in order and make sure you understand the explanations. \n",
    "\n",
    "*Note: This guided lab uses Google Chrome. Other browsers like Safari and Firefox have similar tools for developers but they work differently. To save your time in following this lab, it is strongly recommended that you install and use Google Chrome.*"
   ]
  },
  {
   "cell_type": "markdown",
   "metadata": {},
   "source": [
    "## Obtaining the link\n",
    "\n",
    "Zalando is discount e-store where you can buy clothes and accesories with discount. When we go to the web-page, we can choose different sections. First the general process will be shown using [Children section](https://www.zalando.fr/accueil-enfant/) as example.\n",
    "\n",
    "Here we will parse data about promotions only. Therefore, final output will be the DataFrame with all the goods under discount.\n",
    "\n",
    "[![Image from Gyazo](https://i.gyazo.com/fa4874d8e81c7570273bbfb853d66308.png)](https://gyazo.com/fa4874d8e81c7570273bbfb853d66308)\n",
    "\n",
    "\n",
    "We go to Promos page. Right click of mouse shows us a list of actions possible, from which we select Inspect.\n",
    "\n",
    "<img src='https://i.gyazo.com/bccbd11d69c9040dc98758d443e32052.png' width=\"400\">\n",
    "\n",
    "\n",
    "You will see the menu dropdown on the right side or on the bottom of the window. There you should click on Network:\n",
    "\n",
    "\n",
    "[![Image from Gyazo](https://i.gyazo.com/f7e0db81cbfee67694183d1a7640bf81.png)](https://gyazo.com/f7e0db81cbfee67694183d1a7640bf81)"
   ]
  },
  {
   "cell_type": "markdown",
   "metadata": {},
   "source": [
    "Right after the developer part will change showing the files behind the page. In order to obtain only useful files we select the following settings:\n",
    "1. Preserve Log\n",
    "2. Select XHR files.\n",
    "\n",
    "[![Image from Gyazo](https://i.gyazo.com/9a899d4441d9d93e795f79747f1e47d5.png)](https://gyazo.com/9a899d4441d9d93e795f79747f1e47d5)\n",
    "\n",
    "In order to obtain some files we need to scrool down and go forward to second page. \n",
    "\n",
    "[![Image from Gyazo](https://i.gyazo.com/0956eb3d5125075a236c9a439c7749c7.png)](https://gyazo.com/0956eb3d5125075a236c9a439c7749c7)\n",
    "\n",
    "In the Network panel you can see the following files being uploaded. All the data on the web-page is uploaded from the json file, which is one of the following. It is important to understand which file contains what kind of information. \n",
    "\n",
    "<a href=\"https://gyazo.com/cf97a655869f0b22df0ada1cb2a41c3c\"><img src=\"https://i.gyazo.com/cf97a655869f0b22df0ada1cb2a41c3c.png\" alt=\"Image from Gyazo\" width=\"724.8\"/></a>\n",
    "\n",
    "When you find what kind of information you need for the data to be uploaded you just test it. Here we need the article... file:\n",
    "\n",
    "<a href=\"https://gyazo.com/78b35bf492994b3f35c0564a21da202a\"><img src=\"https://i.gyazo.com/78b35bf492994b3f35c0564a21da202a.png\" alt=\"Image from Gyazo\" width=\"727.2\"/></a>\n",
    "\n",
    "When we test the link in Chrome inkognito mode we obtain the proper json file:\n",
    "\n",
    "\n",
    "<a href=\"https://gyazo.com/b60453fa98454fa29771c731a5174443\"><img src=\"https://i.gyazo.com/b60453fa98454fa29771c731a5174443.png\" alt=\"Image from Gyazo\" width=\"1530.4\"/></a>"
   ]
  },
  {
   "cell_type": "markdown",
   "metadata": {},
   "source": [
    "In order to change the objects in the json file (kind of pagination), you need to change the offset (the number of the first element on the page). in fact, if you take a look on the link, it is easy to unerstand the structure of the link.\n",
    "\n",
    "# Reading the data\n",
    "\n",
    "Now the party rocks! When we know how can we obtain the data, it is not a problem to obtain the whole database with all the data from the web-page.\n",
    "In this lab you will collect your database of Zalando products. You select which goods you want to track. You can define as many filters to your data as you want. Just make sure that the data represents the filters.\n",
    "\n",
    "\n"
   ]
  },
  {
   "cell_type": "code",
   "execution_count": 1,
   "metadata": {
    "ExecuteTime": {
     "end_time": "2020-02-08T18:59:11.544652Z",
     "start_time": "2020-02-08T18:59:10.940390Z"
    }
   },
   "outputs": [],
   "source": [
    "import json\n",
    "import requests\n",
    "import pandas as pd\n",
    "from pandas.io.json import json_normalize\n"
   ]
  },
  {
   "cell_type": "code",
   "execution_count": 2,
   "metadata": {
    "ExecuteTime": {
     "end_time": "2020-02-08T18:59:11.548854Z",
     "start_time": "2020-02-08T18:59:11.546423Z"
    }
   },
   "outputs": [],
   "source": [
    "# Paste the url you obtained for your data\n",
    "url = 'https://www.zalando.fr/api/catalog/articles?categories=promo-enfant&limit=84&offset=84&sort=sale'"
   ]
  },
  {
   "cell_type": "markdown",
   "metadata": {},
   "source": [
    "#### Collect first 84 object of the of the data (1st page)\n",
    "\n",
    "Your output should be a Pandas DataFrame of goods. Each row should contain only text or numbers, having *family_articles, flags, media* and *sizes* remaining lists (they are exceptions). Hint: use the headers parameter to get the data!"
   ]
  },
  {
   "cell_type": "code",
   "execution_count": 3,
   "metadata": {
    "ExecuteTime": {
     "end_time": "2020-02-08T18:59:13.917758Z",
     "start_time": "2020-02-08T18:59:11.551185Z"
    }
   },
   "outputs": [
    {
     "data": {
      "text/plain": [
       "262"
      ]
     },
     "execution_count": 3,
     "metadata": {},
     "output_type": "execute_result"
    }
   ],
   "source": [
    "# headers definition, gets your user agent\n",
    "\n",
    "headers = {'User-Agent': 'Mozilla/5.0 (Macintosh; Intel Mac OS X 10_11_6) AppleWebKit/537.36 (KHTML, like Gecko) Chrome/61.0.3163.100 Safari/537.36'}\n",
    "\n",
    "# Doing the request to the api, headers= user agent\n",
    "response = requests.get(url, headers= headers)\n",
    "results = response.json()\n",
    "results\n",
    "# Display the naked json\n",
    "results[\"pagination\"][\"page_count\"]\n"
   ]
  },
  {
   "cell_type": "code",
   "execution_count": 4,
   "metadata": {
    "ExecuteTime": {
     "end_time": "2020-02-08T18:59:13.995978Z",
     "start_time": "2020-02-08T18:59:13.919486Z"
    }
   },
   "outputs": [
    {
     "name": "stdout",
     "output_type": "stream",
     "text": [
      "              sku                                               name  \\\n",
      "0   NI114D0AV-A11  AIR MAX 200 - Baskets basses - white/black/bri...   \n",
      "1   NA824O01P-K11  NKMSNOW03 JACKET BLOCK  - Veste d'hiver - dark...   \n",
      "2   LE223A054-Q12        710 SUPER SKINNY - Jeans Skinny - meteorite   \n",
      "3   QU124L020-Q11      BICHENO BLOOM YOUTH - Veste mi-saison - black   \n",
      "4   AD116D0N3-C11  YUNG-96 CHASM - Baskets basses - grey four/sca...   \n",
      "..            ...                                                ...   \n",
      "79  BL824L01X-C11                         Veste d'hiver - mittelgrau   \n",
      "80  LE223K01R-Q11   CROPPED BRANDED HOODIE - Sweat à capuche - black   \n",
      "81  AD123B021-Q11                            TAPE  - Legging - black   \n",
      "82  RI924I01Z-K11                                     Chemise - navy   \n",
      "83  LE224G07A-K11  GRAPHIC TEE BABY - T-shirt à manches longues -...   \n",
      "\n",
      "                                                sizes  \\\n",
      "0                  [17, 18.5, 19.5, 21, 22, 23.5, 25]   \n",
      "1                   [8a, 9a, 10a, 11a, 12a, 13a, 14a]   \n",
      "2                [3a, 4a, 6a, 8a, 10a, 12a, 14a, 16a]   \n",
      "3                             [8a, 9a, 12a, 14a, 16a]   \n",
      "4                    [36, 38, 36 2/3, 37 1/3, 38 2/3]   \n",
      "..                                                ...   \n",
      "79                       [2a, 3a, 4a, 5a, 6a, 7a, 8a]   \n",
      "80                                [8a, 10a, 12a, 14a]   \n",
      "81  [7-8a, 8-9a, 9-10a, 10-11a, 11-12a, 12-13a, 13...   \n",
      "82                        [5-6a, 7-8a, 9-10a, 11-12a]   \n",
      "83                       [6m, 9m, 12m, 18m, 24m, 36m]   \n",
      "\n",
      "                                              url_key  \\\n",
      "0   nike-sportswear-air-max-200-baskets-basses-ni1...   \n",
      "1   name-it-nkmsnow03-jacket-block-veste-dhiver-da...   \n",
      "2   levisr-710-super-skinny-jeans-skinny-le223a054...   \n",
      "3   quiksilver-bicheno-bloom-youth-veste-dhiver-bl...   \n",
      "4   adidas-originals-yung-96-chasm-baskets-basses-...   \n",
      "..                                                ...   \n",
      "79   blue-seven-veste-dhiver-mittelgrau-bl824l01x-c11   \n",
      "80  levisr-cropped-branded-hoodie-sweatshirt-black...   \n",
      "81  adidas-originals-tape-legging-black-ad123b021-q11   \n",
      "82            river-island-chemise-navy-ri924i01z-k11   \n",
      "83  levisr-graphic-tee-baby-t-shirt-a-manches-long...   \n",
      "\n",
      "                                                media        brand_name  \\\n",
      "0   [{'path': 'NI/11/4D/0A/VA/11/NI114D0AV-A11@11....   Nike Sportswear   \n",
      "1   [{'path': 'NA/82/4O/01/PK/11/NA824O01P-K11@4.j...           Name it   \n",
      "2   [{'path': 'LE/22/3A/05/4Q/12/LE223A054-Q12@4.j...           Levi's®   \n",
      "3   [{'path': 'QU/12/4L/02/0Q/11/QU124L020-Q11@8.j...        Quiksilver   \n",
      "4   [{'path': 'AD/11/6D/0N/3C/11/AD116D0N3-C11@3.j...  adidas Originals   \n",
      "..                                                ...               ...   \n",
      "79  [{'path': 'BL/82/4L/01/XC/11/BL824L01X-C11@13....        Blue Seven   \n",
      "80  [{'path': 'LE/22/3K/01/RQ/11/LE223K01R-Q11@4.j...           Levi's®   \n",
      "81  [{'path': 'AD/12/3B/02/1Q/11/AD123B021-Q11@2.j...  adidas Originals   \n",
      "82  [{'path': 'RI/92/4I/01/ZK/11/RI924I01Z-K11@2.j...      River Island   \n",
      "83  [{'path': 'LE/22/4G/07/AK/11/LE224G07A-K11@2.j...           Levi's®   \n",
      "\n",
      "    is_premium                                    family_articles  \\\n",
      "0        False  [{'sku': 'NI114D0AV-A11', 'url_key': 'nike-spo...   \n",
      "1        False  [{'sku': 'NA824O01P-K11', 'url_key': 'name-it-...   \n",
      "2        False  [{'sku': 'LE223A054-Q12', 'url_key': 'levisr-7...   \n",
      "3        False  [{'sku': 'QU124L020-Q11', 'url_key': 'quiksilv...   \n",
      "4        False  [{'sku': 'AD116D0N3-C11', 'url_key': 'adidas-o...   \n",
      "..         ...                                                ...   \n",
      "79       False  [{'sku': 'BL824L01X-C11', 'url_key': 'blue-sev...   \n",
      "80       False  [{'sku': 'LE223K01R-Q11', 'url_key': 'levisr-c...   \n",
      "81       False  [{'sku': 'AD123B021-Q11', 'url_key': 'adidas-o...   \n",
      "82       False  [{'sku': 'RI924I01Z-K11', 'url_key': 'river-is...   \n",
      "83       False  [{'sku': 'LE224G07A-K11', 'url_key': 'levisr-g...   \n",
      "\n",
      "                                                flags product_group  \\\n",
      "0   [{'key': 'discountRate', 'value': 'Jusqu’à -15...          shoe   \n",
      "1   [{'key': 'discountRate', 'value': 'Jusqu’à -60...      clothing   \n",
      "2   [{'key': 'discountRate', 'value': '-20%', 'tra...      clothing   \n",
      "3   [{'key': 'discountRate', 'value': '-20%', 'tra...      clothing   \n",
      "4   [{'key': 'discountRate', 'value': 'Jusqu’à -40...          shoe   \n",
      "..                                                ...           ...   \n",
      "79  [{'key': 'discountRate', 'value': '-60%', 'tra...      clothing   \n",
      "80  [{'key': 'discountRate', 'value': '-20%', 'tra...      clothing   \n",
      "81  [{'key': 'discountRate', 'value': 'Jusqu’à -20...      clothing   \n",
      "82  [{'key': 'discountRate', 'value': '-20%', 'tra...      clothing   \n",
      "83  [{'key': 'discountRate', 'value': '-20%', 'tra...      clothing   \n",
      "\n",
      "   delivery_promises price.original price.promotional  \\\n",
      "0                 []        59,95 €           50,95 €   \n",
      "1                 []        49,99 €           19,99 €   \n",
      "2                 []        44,95 €           35,95 €   \n",
      "3                 []       129,99 €          103,99 €   \n",
      "4                 []        79,95 €           47,95 €   \n",
      "..               ...            ...               ...   \n",
      "79                []        39,95 €           15,95 €   \n",
      "80                []        49,95 €           39,95 €   \n",
      "81                []        27,95 €           22,35 €   \n",
      "82                []        20,95 €           16,80 €   \n",
      "83                []        23,95 €           19,15 €   \n",
      "\n",
      "    price.has_different_prices  price.has_different_original_prices  \\\n",
      "0                         True                                False   \n",
      "1                         True                                False   \n",
      "2                         True                                False   \n",
      "3                        False                                False   \n",
      "4                         True                                False   \n",
      "..                         ...                                  ...   \n",
      "79                       False                                False   \n",
      "80                       False                                False   \n",
      "81                        True                                False   \n",
      "82                       False                                False   \n",
      "83                       False                                False   \n",
      "\n",
      "    price.has_different_promotional_prices  \\\n",
      "0                                     True   \n",
      "1                                     True   \n",
      "2                                     True   \n",
      "3                                    False   \n",
      "4                                     True   \n",
      "..                                     ...   \n",
      "79                                   False   \n",
      "80                                   False   \n",
      "81                                    True   \n",
      "82                                   False   \n",
      "83                                   False   \n",
      "\n",
      "    price.has_discount_on_selected_sizes_only amount  \n",
      "0                                       False    NaN  \n",
      "1                                       False    NaN  \n",
      "2                                       False    NaN  \n",
      "3                                       False    NaN  \n",
      "4                                       False    NaN  \n",
      "..                                        ...    ...  \n",
      "79                                      False    NaN  \n",
      "80                                      False    NaN  \n",
      "81                                      False    NaN  \n",
      "82                                      False    NaN  \n",
      "83                                      False    NaN  \n",
      "\n",
      "[84 rows x 18 columns]\n"
     ]
    }
   ],
   "source": [
    "# Your code\n",
    "\n",
    "#Normalizing the first level of the JSON dictionary\n",
    "\n",
    "df = json_normalize(results)\n",
    "\n",
    "#Getting 'articles', the column we're interested in\n",
    "\n",
    "df = json_normalize(df.articles[0])\n",
    "\n",
    "print(df)\n"
   ]
  },
  {
   "cell_type": "markdown",
   "metadata": {},
   "source": [
    "#### Collect all the objects from selected filters. Total number of pages can be found in the same json. Use *sku* column as index.\n",
    "\n",
    "Your output should be a Pandas DataFrame of goods. Each row should contain only text or numbers, having family_articles, flags, media and sizes remaining lists (they are exceptions)."
   ]
  },
  {
   "cell_type": "code",
   "execution_count": 5,
   "metadata": {
    "ExecuteTime": {
     "end_time": "2020-02-08T19:01:10.215369Z",
     "start_time": "2020-02-08T18:59:13.997463Z"
    }
   },
   "outputs": [
    {
     "name": "stderr",
     "output_type": "stream",
     "text": [
      "/opt/anaconda3/lib/python3.7/site-packages/ipykernel_launcher.py:13: FutureWarning: Sorting because non-concatenation axis is not aligned. A future version\n",
      "of pandas will change to not sort by default.\n",
      "\n",
      "To accept the future behavior, pass 'sort=False'.\n",
      "\n",
      "To retain the current behavior and silence the warning, pass 'sort=True'.\n",
      "\n",
      "  del sys.path[0]\n"
     ]
    },
    {
     "data": {
      "text/plain": [
       "sku\n",
       "NI116D04L-Q11     54,95 €\n",
       "NI114D0B9-Q14    104,95 €\n",
       "NI114D0C8-Q11    114,95 €\n",
       "AD116D007-A11     54,95 €\n",
       "AD126L00J-Q11     64,95 €\n",
       "Name: price.original, dtype: object"
      ]
     },
     "execution_count": 5,
     "metadata": {},
     "output_type": "execute_result"
    }
   ],
   "source": [
    "# Get the total number of pages\n",
    "\n",
    "lst = []\n",
    "for i in range(results[\"pagination\"][\"page_count\"]):\n",
    "    count = 84*i\n",
    "    urls = 'https://www.zalando.fr/api/catalog/articles?categories=promo-enfant&limit=84&offset='+str(count)+'&sort=sale'\n",
    "    response_all = requests.get(urls, headers =headers)\n",
    "    results_all = response_all.json()\n",
    "    flatten_data_all = json_normalize(results_all)\n",
    "    flatten_data_all = json_normalize(flatten_data_all.articles[0])\n",
    "    lst.append(flatten_data_all)\n",
    "    \n",
    "df = pd.concat(lst)\n",
    "\n",
    "# Your code\n",
    "\n",
    "df.index = df['sku']\n",
    "\n",
    "df['price.original'].head()\n"
   ]
  },
  {
   "cell_type": "markdown",
   "metadata": {},
   "source": [
    "#### Display the trending brand in DataFrame"
   ]
  },
  {
   "cell_type": "code",
   "execution_count": 6,
   "metadata": {
    "ExecuteTime": {
     "end_time": "2020-02-08T19:01:10.231974Z",
     "start_time": "2020-02-08T19:01:10.216817Z"
    }
   },
   "outputs": [
    {
     "data": {
      "text/plain": [
       "Name it     1016\n",
       "GAP          715\n",
       "Esprit       675\n",
       "Boboli       671\n",
       "Benetton     529\n",
       "Name: brand_name, dtype: int64"
      ]
     },
     "execution_count": 6,
     "metadata": {},
     "output_type": "execute_result"
    }
   ],
   "source": [
    "# your code\n",
    "df['brand_name'].value_counts().head(5)"
   ]
  },
  {
   "cell_type": "markdown",
   "metadata": {},
   "source": [
    "#### Display the brand with maximal total discount (sum of discounts on all goods)"
   ]
  },
  {
   "cell_type": "code",
   "execution_count": 7,
   "metadata": {
    "ExecuteTime": {
     "end_time": "2020-02-08T19:01:10.340442Z",
     "start_time": "2020-02-08T19:01:10.234394Z"
    }
   },
   "outputs": [
    {
     "data": {
      "text/html": [
       "<div>\n",
       "<style scoped>\n",
       "    .dataframe tbody tr th:only-of-type {\n",
       "        vertical-align: middle;\n",
       "    }\n",
       "\n",
       "    .dataframe tbody tr th {\n",
       "        vertical-align: top;\n",
       "    }\n",
       "\n",
       "    .dataframe thead th {\n",
       "        text-align: right;\n",
       "    }\n",
       "</style>\n",
       "<table border=\"1\" class=\"dataframe\">\n",
       "  <thead>\n",
       "    <tr style=\"text-align: right;\">\n",
       "      <th></th>\n",
       "      <th>price.original</th>\n",
       "      <th>price.promotional</th>\n",
       "    </tr>\n",
       "    <tr>\n",
       "      <th>sku</th>\n",
       "      <th></th>\n",
       "      <th></th>\n",
       "    </tr>\n",
       "  </thead>\n",
       "  <tbody>\n",
       "    <tr>\n",
       "      <td>NI116D04L-Q11</td>\n",
       "      <td>54.95</td>\n",
       "      <td>43.95</td>\n",
       "    </tr>\n",
       "    <tr>\n",
       "      <td>NI114D0B9-Q14</td>\n",
       "      <td>104.95</td>\n",
       "      <td>83.95</td>\n",
       "    </tr>\n",
       "    <tr>\n",
       "      <td>NI114D0C8-Q11</td>\n",
       "      <td>114.95</td>\n",
       "      <td>91.95</td>\n",
       "    </tr>\n",
       "    <tr>\n",
       "      <td>AD116D007-A11</td>\n",
       "      <td>54.95</td>\n",
       "      <td>38.45</td>\n",
       "    </tr>\n",
       "    <tr>\n",
       "      <td>AD126L00J-Q11</td>\n",
       "      <td>64.95</td>\n",
       "      <td>41.95</td>\n",
       "    </tr>\n",
       "    <tr>\n",
       "      <td>...</td>\n",
       "      <td>...</td>\n",
       "      <td>...</td>\n",
       "    </tr>\n",
       "    <tr>\n",
       "      <td>NA823F0ZU-K11</td>\n",
       "      <td>29.99</td>\n",
       "      <td>29.99</td>\n",
       "    </tr>\n",
       "    <tr>\n",
       "      <td>LE314G02K-K11</td>\n",
       "      <td>54.95</td>\n",
       "      <td>54.95</td>\n",
       "    </tr>\n",
       "    <tr>\n",
       "      <td>N1243D12J-Q11</td>\n",
       "      <td>55.00</td>\n",
       "      <td>55.00</td>\n",
       "    </tr>\n",
       "    <tr>\n",
       "      <td>LE314E01O-K11</td>\n",
       "      <td>54.95</td>\n",
       "      <td>54.95</td>\n",
       "    </tr>\n",
       "    <tr>\n",
       "      <td>CA313L002-J11</td>\n",
       "      <td>40.00</td>\n",
       "      <td>40.00</td>\n",
       "    </tr>\n",
       "  </tbody>\n",
       "</table>\n",
       "<p>22008 rows × 2 columns</p>\n",
       "</div>"
      ],
      "text/plain": [
       "               price.original  price.promotional\n",
       "sku                                             \n",
       "NI116D04L-Q11           54.95              43.95\n",
       "NI114D0B9-Q14          104.95              83.95\n",
       "NI114D0C8-Q11          114.95              91.95\n",
       "AD116D007-A11           54.95              38.45\n",
       "AD126L00J-Q11           64.95              41.95\n",
       "...                       ...                ...\n",
       "NA823F0ZU-K11           29.99              29.99\n",
       "LE314G02K-K11           54.95              54.95\n",
       "N1243D12J-Q11           55.00              55.00\n",
       "LE314E01O-K11           54.95              54.95\n",
       "CA313L002-J11           40.00              40.00\n",
       "\n",
       "[22008 rows x 2 columns]"
      ]
     },
     "execution_count": 7,
     "metadata": {},
     "output_type": "execute_result"
    }
   ],
   "source": [
    "#Our data is still text. Convert prices into numbers.\n",
    "import re\n",
    "\n",
    "def extract_nums(string):\n",
    "    string = string[:-2]\n",
    "    num = string.replace(',', '.')\n",
    "    return num\n",
    "   \n",
    "\n",
    "df['price.original'] = df['price.original'].apply(extract_nums).astype(float)\n",
    "df['price.promotional'] = df['price.promotional'].apply(extract_nums).astype(float)\n",
    "\n",
    "df[['price.original', 'price.promotional']]"
   ]
  },
  {
   "cell_type": "code",
   "execution_count": 8,
   "metadata": {
    "ExecuteTime": {
     "end_time": "2020-02-08T19:01:10.358371Z",
     "start_time": "2020-02-08T19:01:10.342847Z"
    }
   },
   "outputs": [
    {
     "data": {
      "text/plain": [
       "sku\n",
       "NI116D04L-Q11    11.0\n",
       "NI114D0B9-Q14    21.0\n",
       "NI114D0C8-Q11    23.0\n",
       "AD116D007-A11    16.5\n",
       "AD126L00J-Q11    23.0\n",
       "                 ... \n",
       "NA823F0ZU-K11     0.0\n",
       "LE314G02K-K11     0.0\n",
       "N1243D12J-Q11     0.0\n",
       "LE314E01O-K11     0.0\n",
       "CA313L002-J11     0.0\n",
       "Name: total.discount, Length: 22008, dtype: float64"
      ]
     },
     "execution_count": 8,
     "metadata": {},
     "output_type": "execute_result"
    }
   ],
   "source": [
    "df['total.discount'] = df['price.original'] - df['price.promotional']\n",
    "\n",
    "df['total.discount']"
   ]
  },
  {
   "cell_type": "code",
   "execution_count": 9,
   "metadata": {
    "ExecuteTime": {
     "end_time": "2020-02-08T19:01:10.372195Z",
     "start_time": "2020-02-08T19:01:10.360887Z"
    }
   },
   "outputs": [
    {
     "data": {
      "text/plain": [
       "brand_name\n",
       "Naturino          10650.80\n",
       "Boboli             8098.80\n",
       "Tommy Hilfiger     6982.40\n",
       "Esprit             6863.16\n",
       "Name it            6064.20\n",
       "                    ...   \n",
       "HOMEBASE             10.00\n",
       "le coq sportif       10.00\n",
       "Weleda                6.00\n",
       "Lego Bags             5.60\n",
       "Deuter                3.80\n",
       "Name: total.discount, Length: 349, dtype: float64"
      ]
     },
     "execution_count": 9,
     "metadata": {},
     "output_type": "execute_result"
    }
   ],
   "source": [
    "brand_discount = df.groupby('brand_name')['total.discount'].sum()\n",
    "\n",
    "brand_discount.sort_values(ascending= False)"
   ]
  },
  {
   "cell_type": "markdown",
   "metadata": {},
   "source": [
    "#### Display the brands without discount at all"
   ]
  },
  {
   "cell_type": "code",
   "execution_count": 11,
   "metadata": {
    "ExecuteTime": {
     "end_time": "2020-02-08T19:02:13.384781Z",
     "start_time": "2020-02-08T19:02:13.374555Z"
    }
   },
   "outputs": [],
   "source": [
    "# your code\n",
    "\n",
    "no_discount = df.loc[df['total.discount']==0]\n",
    "\n",
    "has_discount = df.groupby('brand_name')['total.discount'].sum() == 0"
   ]
  },
  {
   "cell_type": "code",
   "execution_count": 13,
   "metadata": {
    "ExecuteTime": {
     "end_time": "2020-02-08T19:02:30.064170Z",
     "start_time": "2020-02-08T19:02:30.056152Z"
    }
   },
   "outputs": [
    {
     "data": {
      "text/plain": [
       "False    349\n",
       "Name: total.discount, dtype: int64"
      ]
     },
     "execution_count": 13,
     "metadata": {},
     "output_type": "execute_result"
    }
   ],
   "source": [
    "has_discount.value_counts()"
   ]
  },
  {
   "cell_type": "code",
   "execution_count": null,
   "metadata": {},
   "outputs": [],
   "source": []
  }
 ],
 "metadata": {
  "kernelspec": {
   "display_name": "Python 3",
   "language": "python",
   "name": "python3"
  },
  "language_info": {
   "codemirror_mode": {
    "name": "ipython",
    "version": 3
   },
   "file_extension": ".py",
   "mimetype": "text/x-python",
   "name": "python",
   "nbconvert_exporter": "python",
   "pygments_lexer": "ipython3",
   "version": "3.7.4"
  },
  "toc": {
   "base_numbering": 1,
   "nav_menu": {},
   "number_sections": true,
   "sideBar": true,
   "skip_h1_title": false,
   "title_cell": "Table of Contents",
   "title_sidebar": "Contents",
   "toc_cell": false,
   "toc_position": {},
   "toc_section_display": true,
   "toc_window_display": false
  },
  "varInspector": {
   "cols": {
    "lenName": 16,
    "lenType": 16,
    "lenVar": 40
   },
   "kernels_config": {
    "python": {
     "delete_cmd_postfix": "",
     "delete_cmd_prefix": "del ",
     "library": "var_list.py",
     "varRefreshCmd": "print(var_dic_list())"
    },
    "r": {
     "delete_cmd_postfix": ") ",
     "delete_cmd_prefix": "rm(",
     "library": "var_list.r",
     "varRefreshCmd": "cat(var_dic_list()) "
    }
   },
   "types_to_exclude": [
    "module",
    "function",
    "builtin_function_or_method",
    "instance",
    "_Feature"
   ],
   "window_display": false
  }
 },
 "nbformat": 4,
 "nbformat_minor": 2
}
