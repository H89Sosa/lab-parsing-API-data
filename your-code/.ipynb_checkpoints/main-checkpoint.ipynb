{
 "cells": [
  {
   "cell_type": "markdown",
   "metadata": {},
   "source": [
    "# Challenge: Promotions\n",
    "\n",
    "In this challenge, you'll develop codes to parse and analyze data returned from another API on Zalando such as [Promos homme (Men's Promotions)\n",
    "](https://www.zalando.fr/promo-homme/) or [Promos femme (Women's Promotions)](https://www.zalando.fr/promo-femme/). The workflow is almost the same as in the guided lesson but you'll work with different data."
   ]
  },
  {
   "cell_type": "markdown",
   "metadata": {},
   "source": [
    "## Obtaining the link\n",
    "\n",
    "Wrote your codes in the cell below to obtain the data from the API endpoint you choose. A recap of the workflow:\n",
    "\n",
    "1. Examine the webpages and choose one that you want to work with.\n",
    "\n",
    "1. Use Google Chrome's DevTools to inspect the XHR network requests. Find out the API endpoint that serves data to the webpage.\n",
    "\n",
    "1. Test the API endpoint in the browser to verify its data.\n",
    "\n",
    "1. Change the page number offset of the API URL to test if it's working."
   ]
  },
  {
   "cell_type": "code",
   "execution_count": 1,
   "metadata": {
    "ExecuteTime": {
     "end_time": "2020-02-08T18:59:24.539956Z",
     "start_time": "2020-02-08T18:59:24.536933Z"
    }
   },
   "outputs": [],
   "source": [
    "# your code here\n",
    "\n",
    "url = 'https://www.zalando.fr/api/catalog/articles?categories=promo-femme&limit=84&offset=84&sort=popularity'"
   ]
  },
  {
   "cell_type": "markdown",
   "metadata": {},
   "source": [
    "## Reading the data\n",
    "\n",
    "In the next cell, use Python to obtain data from the API endpoint you chose in the previous step. Workflow:\n",
    "\n",
    "1. Import libraries.\n",
    "\n",
    "1. Define the initial API endpoint URL.\n",
    "\n",
    "1. Make request to obtain data of the 1st page. Flatten the data and store it in an empty object variable.\n",
    "\n",
    "1. Find out the total page count in the 1st page data.\n",
    "\n",
    "1. Use a FOR loop to make requests for the additional pages from 2 to page count. Append the data of each additional page to the flatterned data object.\n",
    "\n",
    "1. Print and review the data you obtained."
   ]
  },
  {
   "cell_type": "code",
   "execution_count": 2,
   "metadata": {
    "ExecuteTime": {
     "end_time": "2020-02-08T18:59:25.168497Z",
     "start_time": "2020-02-08T18:59:24.542253Z"
    }
   },
   "outputs": [],
   "source": [
    "# your code here\n",
    "import json\n",
    "import requests\n",
    "import pandas as pd\n",
    "from pandas.io.json import json_normalize"
   ]
  },
  {
   "cell_type": "code",
   "execution_count": 3,
   "metadata": {
    "ExecuteTime": {
     "end_time": "2020-02-08T18:59:25.173173Z",
     "start_time": "2020-02-08T18:59:25.170751Z"
    }
   },
   "outputs": [],
   "source": [
    "url= 'https://www.zalando.fr/api/catalog/articles?categories=promo-homme&limit=84&offset=84&sort=popularity'"
   ]
  },
  {
   "cell_type": "code",
   "execution_count": 4,
   "metadata": {
    "ExecuteTime": {
     "end_time": "2020-02-08T18:59:25.776623Z",
     "start_time": "2020-02-08T18:59:25.175070Z"
    }
   },
   "outputs": [
    {
     "data": {
      "text/plain": [
       "607"
      ]
     },
     "execution_count": 4,
     "metadata": {},
     "output_type": "execute_result"
    }
   ],
   "source": [
    "headers = {'User-Agent': 'Mozilla/5.0 (Macintosh; Intel Mac OS X 10_11_6) AppleWebKit/537.36 (KHTML, like Gecko) Chrome/61.0.3163.100 Safari/537.36'}\n",
    "\n",
    "# Doing the request to the api, headers= user agent\n",
    "response = requests.get(url, headers= headers)\n",
    "results = response.json()\n",
    "results\n",
    "# Display the naked json\n",
    "results[\"pagination\"][\"page_count\"]"
   ]
  },
  {
   "cell_type": "code",
   "execution_count": 5,
   "metadata": {
    "ExecuteTime": {
     "end_time": "2020-02-08T18:59:25.902652Z",
     "start_time": "2020-02-08T18:59:25.778012Z"
    }
   },
   "outputs": [
    {
     "name": "stdout",
     "output_type": "stream",
     "text": [
      "              sku                                               name  \\\n",
      "0   BB122O04L-G11                 T-SHIRT RN - T-shirt imprimé - red   \n",
      "1   LE252F000-Q11   VINTAGE TWO HORSE - Portefeuille - regular black   \n",
      "2   PI922EA0O-Q11                                      Chino - black   \n",
      "3   JA222O2C4-K11  JCOBOOSTER TEE CREW NECK 2 PACK - T-shirt impr...   \n",
      "4   TO122Q07C-K11                    SILK ZIP MOCK - Pullover - blue   \n",
      "..            ...                                                ...   \n",
      "79  NI122E06R-C11  PANT CARGO - Pantalon de survêtement - grey he...   \n",
      "80  BB122P01R-K15                          PALLAS - Polo - dark blue   \n",
      "81  NI122S0AT-K11                  CLUB - Sweatshirt - midnight navy   \n",
      "82  PI922Q00F-C11                            Pullover - grey melange   \n",
      "83  NE352P01U-T11  LEAGUE ESSENTIAL - Casquette - new york yankee...   \n",
      "\n",
      "                       sizes  \\\n",
      "0                 [M, L, XL]   \n",
      "1                 [One Size]   \n",
      "2   [29, 30, 31, 32, 33, 34]   \n",
      "3          [XS, S, M, L, XL]   \n",
      "4              [M, XXL, 3XL]   \n",
      "..                       ...   \n",
      "79           [M, L, XL, XXL]   \n",
      "80   [S, M, L, XL, XXL, 3XL]   \n",
      "81                [S, M, XL]   \n",
      "82                 [S, M, L]   \n",
      "83                [One Size]   \n",
      "\n",
      "                                              url_key  \\\n",
      "0              boss-t-shirt-imprime-red-bb122o04l-g11   \n",
      "1    levi-s-clairview-portefeuille-noir-le252f000-q11   \n",
      "2                  pier-one-chino-black-pi922ea0o-q11   \n",
      "3   jack-and-jones-jcobooster-tee-crew-neck-2-pack...   \n",
      "4   tommy-hilfiger-silk-zip-mock-pullover-to122q07...   \n",
      "..                                                ...   \n",
      "79  nike-sportswear-pant-cargo-pantalon-de-survete...   \n",
      "80                     boss-pallas-polo-bb122p01r-k15   \n",
      "81      nike-sportswear-club-sweatshirt-ni122s0at-k11   \n",
      "82               pier-one-pullover-gris-pi922q00f-c11   \n",
      "83  new-era-league-essential-940-casquette-new-yor...   \n",
      "\n",
      "                                                media       brand_name  \\\n",
      "0   [{'path': 'BB/12/2O/04/LG/11/BB122O04L-G11@6.j...             BOSS   \n",
      "1   [{'path': 'LE/25/2F/00/0Q/11/LE252F000-Q11@10....          Levi's®   \n",
      "2   [{'path': 'PI/92/2E/A0/OQ/11/PI922EA0O-Q11@16....         Pier One   \n",
      "3   [{'path': 'JA/22/2O/2C/4K/11/JA222O2C4-K11@7.2...     Jack & Jones   \n",
      "4   [{'path': 'TO/12/2Q/07/CK/11/TO122Q07C-K11@4.j...   Tommy Hilfiger   \n",
      "..                                                ...              ...   \n",
      "79  [{'path': 'NI/12/2E/06/RC/11/NI122E06R-C11@11....  Nike Sportswear   \n",
      "80  [{'path': 'BB/12/2P/01/RK/15/BB122P01R-K15@2.1...             BOSS   \n",
      "81  [{'path': 'NI/12/2S/0A/TK/11/NI122S0AT-K11@12....  Nike Sportswear   \n",
      "82  [{'path': 'PI/92/2Q/00/FC/11/PI922Q00F-C11@27....         Pier One   \n",
      "83  [{'path': 'NE/35/2P/01/UT/11/NE352P01U-T11@12....          New Era   \n",
      "\n",
      "    is_premium                                    family_articles  \\\n",
      "0         True  [{'sku': 'BB122O04L-G11', 'url_key': 'boss-t-s...   \n",
      "1        False  [{'sku': 'LE252F000-Q11', 'url_key': 'levi-s-c...   \n",
      "2        False  [{'sku': 'PI922EA0O-Q11', 'url_key': 'pier-one...   \n",
      "3        False  [{'sku': 'JA222O2C4-K11', 'url_key': 'jack-and...   \n",
      "4        False  [{'sku': 'TO122Q07C-K11', 'url_key': 'tommy-hi...   \n",
      "..         ...                                                ...   \n",
      "79       False  [{'sku': 'NI122E06R-C11', 'url_key': 'nike-spo...   \n",
      "80        True  [{'sku': 'BB122P01R-K15', 'url_key': 'boss-pal...   \n",
      "81       False  [{'sku': 'NI122S0AT-K11', 'url_key': 'nike-spo...   \n",
      "82       False  [{'sku': 'PI922Q00F-C11', 'url_key': 'pier-one...   \n",
      "83       False  [{'sku': 'NE352P01U-T11', 'url_key': 'new-era-...   \n",
      "\n",
      "                                                flags product_group  \\\n",
      "0   [{'key': 'discountRate', 'value': '-47%', 'tra...      clothing   \n",
      "1   [{'key': 'discountRate', 'value': '-30%', 'tra...   accessoires   \n",
      "2   [{'key': 'discountRate', 'value': '-35%', 'tra...      clothing   \n",
      "3   [{'key': 'campaign', 'value': 'PRIX MINI', 'tr...      clothing   \n",
      "4   [{'key': 'discountRate', 'value': '-20%', 'tra...      clothing   \n",
      "..                                                ...           ...   \n",
      "79  [{'key': 'discountRate', 'value': '-10%', 'tra...      clothing   \n",
      "80  [{'key': 'discountRate', 'value': '-52%', 'tra...      clothing   \n",
      "81                                                 []      clothing   \n",
      "82  [{'key': 'discountRate', 'value': '-50%', 'tra...      clothing   \n",
      "83  [{'key': 'discountRate', 'value': '-25%', 'tra...   accessoires   \n",
      "\n",
      "   delivery_promises price.original price.promotional  \\\n",
      "0                 []        44,95 €           24,00 €   \n",
      "1                 []        44,95 €           31,45 €   \n",
      "2                 []        29,99 €           19,49 €   \n",
      "3                 []        15,99 €           12,79 €   \n",
      "4                 []       129,95 €          103,95 €   \n",
      "..               ...            ...               ...   \n",
      "79                []        49,95 €           44,95 €   \n",
      "80                []        79,95 €           38,00 €   \n",
      "81                []        39,90 €           38,90 €   \n",
      "82                []        34,99 €           17,49 €   \n",
      "83                []        21,95 €           16,45 €   \n",
      "\n",
      "    price.has_different_prices  price.has_different_original_prices  \\\n",
      "0                        False                                False   \n",
      "1                        False                                False   \n",
      "2                        False                                False   \n",
      "3                        False                                False   \n",
      "4                        False                                False   \n",
      "..                         ...                                  ...   \n",
      "79                       False                                False   \n",
      "80                       False                                False   \n",
      "81                        True                                False   \n",
      "82                       False                                False   \n",
      "83                       False                                False   \n",
      "\n",
      "    price.has_different_promotional_prices  \\\n",
      "0                                    False   \n",
      "1                                    False   \n",
      "2                                    False   \n",
      "3                                    False   \n",
      "4                                    False   \n",
      "..                                     ...   \n",
      "79                                   False   \n",
      "80                                   False   \n",
      "81                                    True   \n",
      "82                                   False   \n",
      "83                                   False   \n",
      "\n",
      "    price.has_discount_on_selected_sizes_only amount outfits  \n",
      "0                                       False    NaN     NaN  \n",
      "1                                       False    NaN     NaN  \n",
      "2                                       False    NaN     NaN  \n",
      "3                                       False    NaN     NaN  \n",
      "4                                       False    NaN     NaN  \n",
      "..                                        ...    ...     ...  \n",
      "79                                      False    NaN     NaN  \n",
      "80                                      False    NaN     NaN  \n",
      "81                                      False    NaN     NaN  \n",
      "82                                      False    NaN     NaN  \n",
      "83                                      False    NaN     NaN  \n",
      "\n",
      "[84 rows x 19 columns]\n"
     ]
    }
   ],
   "source": [
    "#Normalizing the first level of the JSON dictionary\n",
    "\n",
    "df = json_normalize(results)\n",
    "\n",
    "#Getting 'articles', the column we're interested in\n",
    "\n",
    "df = json_normalize(df.articles[0])\n",
    "\n",
    "print(df)"
   ]
  },
  {
   "cell_type": "code",
   "execution_count": 6,
   "metadata": {
    "ExecuteTime": {
     "end_time": "2020-02-08T19:02:56.935691Z",
     "start_time": "2020-02-08T18:59:25.904324Z"
    }
   },
   "outputs": [
    {
     "name": "stderr",
     "output_type": "stream",
     "text": [
      "/opt/anaconda3/lib/python3.7/site-packages/ipykernel_launcher.py:11: FutureWarning: Sorting because non-concatenation axis is not aligned. A future version\n",
      "of pandas will change to not sort by default.\n",
      "\n",
      "To accept the future behavior, pass 'sort=False'.\n",
      "\n",
      "To retain the current behavior and silence the warning, pass 'sort=True'.\n",
      "\n",
      "  # This is added back by InteractiveShellApp.init_path()\n"
     ]
    },
    {
     "data": {
      "text/plain": [
       "sku\n",
       "NI116D04L-Q11     54,95 €\n",
       "NI114D0B9-Q14    104,95 €\n",
       "NI114D0C8-Q11    114,95 €\n",
       "AD116D007-A11     54,95 €\n",
       "AD126L00J-Q11     64,95 €\n",
       "Name: price.original, dtype: object"
      ]
     },
     "execution_count": 6,
     "metadata": {},
     "output_type": "execute_result"
    }
   ],
   "source": [
    "lst = []\n",
    "for i in range(results[\"pagination\"][\"page_count\"]): # Using just 10 pages\n",
    "    count = 84*i\n",
    "    urls = 'https://www.zalando.fr/api/catalog/articles?categories=promo-enfant&limit=84&offset='+str(count)+'&sort=sale'\n",
    "    response_all = requests.get(urls, headers =headers)\n",
    "    results_all = response_all.json()\n",
    "    flatten_data_all = json_normalize(results_all)\n",
    "    flatten_data_all = json_normalize(flatten_data_all.articles[0])\n",
    "    lst.append(flatten_data_all)\n",
    "    \n",
    "df = pd.concat(lst)\n",
    "\n",
    "# Your code\n",
    "\n",
    "df.index = df['sku']\n",
    "\n",
    "df['price.original'].head()"
   ]
  },
  {
   "cell_type": "markdown",
   "metadata": {},
   "source": [
    "## Bonus\n",
    "\n",
    "Extract the following information from the data:\n",
    "\n",
    "* The trending brand.\n",
    "\n",
    "* The product(s) with the highest discount.\n",
    "\n",
    "* The sum of discounts of all goods (sum_discounted_prices divided by sum_original_prices)."
   ]
  },
  {
   "cell_type": "code",
   "execution_count": 7,
   "metadata": {
    "ExecuteTime": {
     "end_time": "2020-02-08T19:02:56.951833Z",
     "start_time": "2020-02-08T19:02:56.938380Z"
    }
   },
   "outputs": [
    {
     "data": {
      "text/plain": [
       "Name it     1018\n",
       "GAP          714\n",
       "Esprit       675\n",
       "Boboli       671\n",
       "Benetton     529\n",
       "Name: brand_name, dtype: int64"
      ]
     },
     "execution_count": 7,
     "metadata": {},
     "output_type": "execute_result"
    }
   ],
   "source": [
    "# The trending brand\n",
    "df['brand_name'].value_counts().head(5)"
   ]
  },
  {
   "cell_type": "code",
   "execution_count": 8,
   "metadata": {
    "ExecuteTime": {
     "end_time": "2020-02-08T19:02:57.053906Z",
     "start_time": "2020-02-08T19:02:56.953910Z"
    }
   },
   "outputs": [
    {
     "data": {
      "text/html": [
       "<div>\n",
       "<style scoped>\n",
       "    .dataframe tbody tr th:only-of-type {\n",
       "        vertical-align: middle;\n",
       "    }\n",
       "\n",
       "    .dataframe tbody tr th {\n",
       "        vertical-align: top;\n",
       "    }\n",
       "\n",
       "    .dataframe thead th {\n",
       "        text-align: right;\n",
       "    }\n",
       "</style>\n",
       "<table border=\"1\" class=\"dataframe\">\n",
       "  <thead>\n",
       "    <tr style=\"text-align: right;\">\n",
       "      <th></th>\n",
       "      <th>price.original</th>\n",
       "      <th>price.promotional</th>\n",
       "    </tr>\n",
       "    <tr>\n",
       "      <th>sku</th>\n",
       "      <th></th>\n",
       "      <th></th>\n",
       "    </tr>\n",
       "  </thead>\n",
       "  <tbody>\n",
       "    <tr>\n",
       "      <td>NI116D04L-Q11</td>\n",
       "      <td>54.95</td>\n",
       "      <td>43.95</td>\n",
       "    </tr>\n",
       "    <tr>\n",
       "      <td>NI114D0B9-Q14</td>\n",
       "      <td>104.95</td>\n",
       "      <td>83.95</td>\n",
       "    </tr>\n",
       "    <tr>\n",
       "      <td>NI114D0C8-Q11</td>\n",
       "      <td>114.95</td>\n",
       "      <td>91.95</td>\n",
       "    </tr>\n",
       "    <tr>\n",
       "      <td>AD116D007-A11</td>\n",
       "      <td>54.95</td>\n",
       "      <td>38.45</td>\n",
       "    </tr>\n",
       "    <tr>\n",
       "      <td>AD126L00J-Q11</td>\n",
       "      <td>64.95</td>\n",
       "      <td>41.95</td>\n",
       "    </tr>\n",
       "    <tr>\n",
       "      <td>...</td>\n",
       "      <td>...</td>\n",
       "      <td>...</td>\n",
       "    </tr>\n",
       "    <tr>\n",
       "      <td>LE314G02K-K11</td>\n",
       "      <td>54.95</td>\n",
       "      <td>54.95</td>\n",
       "    </tr>\n",
       "    <tr>\n",
       "      <td>N1243D12J-Q11</td>\n",
       "      <td>55.00</td>\n",
       "      <td>55.00</td>\n",
       "    </tr>\n",
       "    <tr>\n",
       "      <td>LE314E01O-K11</td>\n",
       "      <td>54.95</td>\n",
       "      <td>54.95</td>\n",
       "    </tr>\n",
       "    <tr>\n",
       "      <td>CA313L002-J11</td>\n",
       "      <td>40.00</td>\n",
       "      <td>40.00</td>\n",
       "    </tr>\n",
       "    <tr>\n",
       "      <td>CA313L002-J11</td>\n",
       "      <td>40.00</td>\n",
       "      <td>40.00</td>\n",
       "    </tr>\n",
       "  </tbody>\n",
       "</table>\n",
       "<p>22009 rows × 2 columns</p>\n",
       "</div>"
      ],
      "text/plain": [
       "               price.original  price.promotional\n",
       "sku                                             \n",
       "NI116D04L-Q11           54.95              43.95\n",
       "NI114D0B9-Q14          104.95              83.95\n",
       "NI114D0C8-Q11          114.95              91.95\n",
       "AD116D007-A11           54.95              38.45\n",
       "AD126L00J-Q11           64.95              41.95\n",
       "...                       ...                ...\n",
       "LE314G02K-K11           54.95              54.95\n",
       "N1243D12J-Q11           55.00              55.00\n",
       "LE314E01O-K11           54.95              54.95\n",
       "CA313L002-J11           40.00              40.00\n",
       "CA313L002-J11           40.00              40.00\n",
       "\n",
       "[22009 rows x 2 columns]"
      ]
     },
     "execution_count": 8,
     "metadata": {},
     "output_type": "execute_result"
    }
   ],
   "source": [
    "#Our data is still text. Convert prices into numbers.\n",
    "import re\n",
    "\n",
    "def extract_nums(string):\n",
    "    string = string[:-2]\n",
    "    num = string.replace(',', '.').replace(' ', '')\n",
    "    return num\n",
    "   \n",
    "\n",
    "df['price.original'] = df['price.original'].apply(extract_nums).astype(float)\n",
    "df['price.promotional'] = df['price.promotional'].apply(extract_nums).astype(float)\n",
    "\n",
    "df[['price.original', 'price.promotional']]"
   ]
  },
  {
   "cell_type": "code",
   "execution_count": 9,
   "metadata": {
    "ExecuteTime": {
     "end_time": "2020-02-08T19:02:57.075890Z",
     "start_time": "2020-02-08T19:02:57.056375Z"
    }
   },
   "outputs": [
    {
     "data": {
      "text/plain": [
       "sku\n",
       "AJ223L006-G11    164.0\n",
       "M4O23F004-K11    150.0\n",
       "TH343F01R-C11    150.0\n",
       "KJ143F00J-H11    148.0\n",
       "M4O23F006-T11    132.0\n",
       "                 ...  \n",
       "KE543B00D-K11      0.0\n",
       "GI116L014-C11      0.0\n",
       "CA316I006-C11      0.0\n",
       "L5214K00M-K11      0.0\n",
       "CA313L002-J11      0.0\n",
       "Name: total.discount, Length: 22009, dtype: float64"
      ]
     },
     "execution_count": 9,
     "metadata": {},
     "output_type": "execute_result"
    }
   ],
   "source": [
    "# Products with highest discount:\n",
    "df['total.discount'] = df['price.original'] - df['price.promotional']\n",
    "\n",
    "df['total.discount'].sort_values(ascending= False)"
   ]
  },
  {
   "cell_type": "code",
   "execution_count": 10,
   "metadata": {
    "ExecuteTime": {
     "end_time": "2020-02-08T19:02:57.082421Z",
     "start_time": "2020-02-08T19:02:57.077335Z"
    }
   },
   "outputs": [
    {
     "data": {
      "text/plain": [
       "0.7385473713581384"
      ]
     },
     "execution_count": 10,
     "metadata": {},
     "output_type": "execute_result"
    }
   ],
   "source": [
    "# The sum of discounts of all goods (sum_discounted_prices divided by sum_original_prices).\n",
    "\n",
    "discounts = df['price.promotional'].sum()\n",
    "all_goods = df['price.original'].sum()\n",
    "\n",
    "sum_of_discounts = discounts / all_goods\n",
    "\n",
    "sum_of_discounts\n"
   ]
  },
  {
   "cell_type": "code",
   "execution_count": null,
   "metadata": {},
   "outputs": [],
   "source": []
  }
 ],
 "metadata": {
  "kernelspec": {
   "display_name": "Python 3",
   "language": "python",
   "name": "python3"
  },
  "language_info": {
   "codemirror_mode": {
    "name": "ipython",
    "version": 3
   },
   "file_extension": ".py",
   "mimetype": "text/x-python",
   "name": "python",
   "nbconvert_exporter": "python",
   "pygments_lexer": "ipython3",
   "version": "3.7.4"
  },
  "toc": {
   "base_numbering": 1,
   "nav_menu": {},
   "number_sections": true,
   "sideBar": true,
   "skip_h1_title": false,
   "title_cell": "Table of Contents",
   "title_sidebar": "Contents",
   "toc_cell": false,
   "toc_position": {},
   "toc_section_display": true,
   "toc_window_display": false
  },
  "varInspector": {
   "cols": {
    "lenName": 16,
    "lenType": 16,
    "lenVar": 40
   },
   "kernels_config": {
    "python": {
     "delete_cmd_postfix": "",
     "delete_cmd_prefix": "del ",
     "library": "var_list.py",
     "varRefreshCmd": "print(var_dic_list())"
    },
    "r": {
     "delete_cmd_postfix": ") ",
     "delete_cmd_prefix": "rm(",
     "library": "var_list.r",
     "varRefreshCmd": "cat(var_dic_list()) "
    }
   },
   "types_to_exclude": [
    "module",
    "function",
    "builtin_function_or_method",
    "instance",
    "_Feature"
   ],
   "window_display": false
  }
 },
 "nbformat": 4,
 "nbformat_minor": 2
}
